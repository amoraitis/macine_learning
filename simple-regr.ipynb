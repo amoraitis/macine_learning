{
 "cells": [
  {
   "cell_type": "code",
   "execution_count": 1,
   "metadata": {},
   "outputs": [],
   "source": [
    "import pandas as pd\n",
    "import sys\n",
    "import constants\n",
    "from sklearn.model_selection import train_test_split\n",
    "import numpy as np\n",
    "import os"
   ]
  },
  {
   "cell_type": "markdown",
   "metadata": {},
   "source": [
    "Read file"
   ]
  },
  {
   "cell_type": "code",
   "execution_count": 2,
   "metadata": {},
   "outputs": [],
   "source": [
    "from preprocessing import transform_and_import_data\n",
    "listings = transform_and_import_data(constants.DATA_PATH)"
   ]
  },
  {
   "cell_type": "code",
   "execution_count": 8,
   "metadata": {},
   "outputs": [],
   "source": [
    "listings.set_index(\"id\", inplace=True)\n",
    "listings.drop(['name', 'description', \"neighborhood_overview\"], axis=1, inplace=True)"
   ]
  },
  {
   "cell_type": "code",
   "execution_count": 9,
   "metadata": {},
   "outputs": [
    {
     "data": {
      "text/html": [
       "<div>\n",
       "<style scoped>\n",
       "    .dataframe tbody tr th:only-of-type {\n",
       "        vertical-align: middle;\n",
       "    }\n",
       "\n",
       "    .dataframe tbody tr th {\n",
       "        vertical-align: top;\n",
       "    }\n",
       "\n",
       "    .dataframe thead th {\n",
       "        text-align: right;\n",
       "    }\n",
       "</style>\n",
       "<table border=\"1\" class=\"dataframe\">\n",
       "  <thead>\n",
       "    <tr style=\"text-align: right;\">\n",
       "      <th></th>\n",
       "      <th>host_response_time</th>\n",
       "      <th>host_is_superhost</th>\n",
       "      <th>host_listings_count</th>\n",
       "      <th>host_total_listings_count</th>\n",
       "      <th>host_identity_verified</th>\n",
       "      <th>neighbourhood_cleansed</th>\n",
       "      <th>latitude</th>\n",
       "      <th>longitude</th>\n",
       "      <th>property_type</th>\n",
       "      <th>room_type</th>\n",
       "      <th>...</th>\n",
       "      <th>number_of_reviews</th>\n",
       "      <th>review_scores_rating</th>\n",
       "      <th>review_scores_accuracy</th>\n",
       "      <th>review_scores_cleanliness</th>\n",
       "      <th>review_scores_checkin</th>\n",
       "      <th>review_scores_communication</th>\n",
       "      <th>review_scores_location</th>\n",
       "      <th>review_scores_value</th>\n",
       "      <th>license</th>\n",
       "      <th>instant_bookable</th>\n",
       "    </tr>\n",
       "    <tr>\n",
       "      <th>id</th>\n",
       "      <th></th>\n",
       "      <th></th>\n",
       "      <th></th>\n",
       "      <th></th>\n",
       "      <th></th>\n",
       "      <th></th>\n",
       "      <th></th>\n",
       "      <th></th>\n",
       "      <th></th>\n",
       "      <th></th>\n",
       "      <th></th>\n",
       "      <th></th>\n",
       "      <th></th>\n",
       "      <th></th>\n",
       "      <th></th>\n",
       "      <th></th>\n",
       "      <th></th>\n",
       "      <th></th>\n",
       "      <th></th>\n",
       "      <th></th>\n",
       "      <th></th>\n",
       "    </tr>\n",
       "  </thead>\n",
       "  <tbody>\n",
       "    <tr>\n",
       "      <th>10595</th>\n",
       "      <td>within an hour</td>\n",
       "      <td>t</td>\n",
       "      <td>6.0</td>\n",
       "      <td>6.0</td>\n",
       "      <td>t</td>\n",
       "      <td>ΑΜΠΕΛΟΚΗΠΟΙ</td>\n",
       "      <td>37.98863</td>\n",
       "      <td>23.76527</td>\n",
       "      <td>Entire rental unit</td>\n",
       "      <td>Entire home/apt</td>\n",
       "      <td>...</td>\n",
       "      <td>33</td>\n",
       "      <td>4.78</td>\n",
       "      <td>4.82</td>\n",
       "      <td>4.76</td>\n",
       "      <td>4.85</td>\n",
       "      <td>4.85</td>\n",
       "      <td>4.52</td>\n",
       "      <td>4.67</td>\n",
       "      <td>t</td>\n",
       "      <td>t</td>\n",
       "    </tr>\n",
       "    <tr>\n",
       "      <th>10990</th>\n",
       "      <td>within an hour</td>\n",
       "      <td>t</td>\n",
       "      <td>6.0</td>\n",
       "      <td>6.0</td>\n",
       "      <td>t</td>\n",
       "      <td>ΑΜΠΕΛΟΚΗΠΟΙ</td>\n",
       "      <td>37.98903</td>\n",
       "      <td>23.76448</td>\n",
       "      <td>Entire rental unit</td>\n",
       "      <td>Entire home/apt</td>\n",
       "      <td>...</td>\n",
       "      <td>62</td>\n",
       "      <td>4.80</td>\n",
       "      <td>4.84</td>\n",
       "      <td>4.84</td>\n",
       "      <td>4.89</td>\n",
       "      <td>4.89</td>\n",
       "      <td>4.77</td>\n",
       "      <td>4.74</td>\n",
       "      <td>t</td>\n",
       "      <td>t</td>\n",
       "    </tr>\n",
       "    <tr>\n",
       "      <th>10993</th>\n",
       "      <td>within an hour</td>\n",
       "      <td>t</td>\n",
       "      <td>6.0</td>\n",
       "      <td>6.0</td>\n",
       "      <td>t</td>\n",
       "      <td>ΑΜΠΕΛΟΚΗΠΟΙ</td>\n",
       "      <td>37.98888</td>\n",
       "      <td>23.76473</td>\n",
       "      <td>Entire rental unit</td>\n",
       "      <td>Entire home/apt</td>\n",
       "      <td>...</td>\n",
       "      <td>87</td>\n",
       "      <td>4.83</td>\n",
       "      <td>4.91</td>\n",
       "      <td>4.93</td>\n",
       "      <td>4.98</td>\n",
       "      <td>4.98</td>\n",
       "      <td>4.84</td>\n",
       "      <td>4.78</td>\n",
       "      <td>t</td>\n",
       "      <td>t</td>\n",
       "    </tr>\n",
       "    <tr>\n",
       "      <th>2219385</th>\n",
       "      <td>within an hour</td>\n",
       "      <td>f</td>\n",
       "      <td>2.0</td>\n",
       "      <td>2.0</td>\n",
       "      <td>t</td>\n",
       "      <td>ΣΤΑΔΙΟ</td>\n",
       "      <td>37.96538</td>\n",
       "      <td>23.74292</td>\n",
       "      <td>Entire condo</td>\n",
       "      <td>Entire home/apt</td>\n",
       "      <td>...</td>\n",
       "      <td>29</td>\n",
       "      <td>4.62</td>\n",
       "      <td>4.57</td>\n",
       "      <td>4.41</td>\n",
       "      <td>4.75</td>\n",
       "      <td>4.79</td>\n",
       "      <td>4.61</td>\n",
       "      <td>4.64</td>\n",
       "      <td>t</td>\n",
       "      <td>t</td>\n",
       "    </tr>\n",
       "    <tr>\n",
       "      <th>10995</th>\n",
       "      <td>within an hour</td>\n",
       "      <td>t</td>\n",
       "      <td>6.0</td>\n",
       "      <td>6.0</td>\n",
       "      <td>t</td>\n",
       "      <td>ΑΜΠΕΛΟΚΗΠΟΙ</td>\n",
       "      <td>37.98903</td>\n",
       "      <td>23.76448</td>\n",
       "      <td>Entire rental unit</td>\n",
       "      <td>Entire home/apt</td>\n",
       "      <td>...</td>\n",
       "      <td>29</td>\n",
       "      <td>4.83</td>\n",
       "      <td>4.96</td>\n",
       "      <td>4.93</td>\n",
       "      <td>4.93</td>\n",
       "      <td>4.89</td>\n",
       "      <td>4.81</td>\n",
       "      <td>4.81</td>\n",
       "      <td>t</td>\n",
       "      <td>t</td>\n",
       "    </tr>\n",
       "  </tbody>\n",
       "</table>\n",
       "<p>5 rows × 39 columns</p>\n",
       "</div>"
      ],
      "text/plain": [
       "        host_response_time host_is_superhost  host_listings_count  \\\n",
       "id                                                                  \n",
       "10595       within an hour                 t                  6.0   \n",
       "10990       within an hour                 t                  6.0   \n",
       "10993       within an hour                 t                  6.0   \n",
       "2219385     within an hour                 f                  2.0   \n",
       "10995       within an hour                 t                  6.0   \n",
       "\n",
       "         host_total_listings_count host_identity_verified  \\\n",
       "id                                                          \n",
       "10595                          6.0                      t   \n",
       "10990                          6.0                      t   \n",
       "10993                          6.0                      t   \n",
       "2219385                        2.0                      t   \n",
       "10995                          6.0                      t   \n",
       "\n",
       "        neighbourhood_cleansed  latitude  longitude       property_type  \\\n",
       "id                                                                        \n",
       "10595              ΑΜΠΕΛΟΚΗΠΟΙ  37.98863   23.76527  Entire rental unit   \n",
       "10990              ΑΜΠΕΛΟΚΗΠΟΙ  37.98903   23.76448  Entire rental unit   \n",
       "10993              ΑΜΠΕΛΟΚΗΠΟΙ  37.98888   23.76473  Entire rental unit   \n",
       "2219385                 ΣΤΑΔΙΟ  37.96538   23.74292        Entire condo   \n",
       "10995              ΑΜΠΕΛΟΚΗΠΟΙ  37.98903   23.76448  Entire rental unit   \n",
       "\n",
       "               room_type  ...  number_of_reviews  review_scores_rating  \\\n",
       "id                        ...                                            \n",
       "10595    Entire home/apt  ...                 33                  4.78   \n",
       "10990    Entire home/apt  ...                 62                  4.80   \n",
       "10993    Entire home/apt  ...                 87                  4.83   \n",
       "2219385  Entire home/apt  ...                 29                  4.62   \n",
       "10995    Entire home/apt  ...                 29                  4.83   \n",
       "\n",
       "        review_scores_accuracy  review_scores_cleanliness  \\\n",
       "id                                                          \n",
       "10595                     4.82                       4.76   \n",
       "10990                     4.84                       4.84   \n",
       "10993                     4.91                       4.93   \n",
       "2219385                   4.57                       4.41   \n",
       "10995                     4.96                       4.93   \n",
       "\n",
       "         review_scores_checkin review_scores_communication  \\\n",
       "id                                                           \n",
       "10595                     4.85                        4.85   \n",
       "10990                     4.89                        4.89   \n",
       "10993                     4.98                        4.98   \n",
       "2219385                   4.75                        4.79   \n",
       "10995                     4.93                        4.89   \n",
       "\n",
       "        review_scores_location  review_scores_value  license  instant_bookable  \n",
       "id                                                                              \n",
       "10595                     4.52                 4.67        t                 t  \n",
       "10990                     4.77                 4.74        t                 t  \n",
       "10993                     4.84                 4.78        t                 t  \n",
       "2219385                   4.61                 4.64        t                 t  \n",
       "10995                     4.81                 4.81        t                 t  \n",
       "\n",
       "[5 rows x 39 columns]"
      ]
     },
     "execution_count": 9,
     "metadata": {},
     "output_type": "execute_result"
    }
   ],
   "source": [
    "listings.head()"
   ]
  },
  {
   "cell_type": "markdown",
   "metadata": {},
   "source": [
    "Transform categorical, etc."
   ]
  },
  {
   "cell_type": "code",
   "execution_count": null,
   "metadata": {},
   "outputs": [],
   "source": [
    "for column in data.columns:\n",
    "    \n",
    "    if data[column].dtype == np.number:\n",
    "        continue\n",
    "\n",
    "# TODO: AM: vs OneHotEncoder\n",
    "data[column] = LabelEncoder().fit_transform(data[column])"
   ]
  },
  {
   "cell_type": "markdown",
   "metadata": {},
   "source": [
    "Split X, Y and train/test"
   ]
  },
  {
   "cell_type": "code",
   "execution_count": 9,
   "metadata": {},
   "outputs": [
    {
     "name": "stdout",
     "output_type": "stream",
     "text": [
      "7184\n",
      "3079\n"
     ]
    }
   ],
   "source": [
    "#separating the data and label\n",
    "X = data.drop(columns='price', axis=1).values\n",
    "y = data['price'].values\n",
    "\n",
    "# split the data into train and test set\n",
    "# Split the data into training and test set\n",
    "X_train_o, X_test, y_train_o, y_test = train_test_split(X, y, test_size=0.2, random_state=24)\n",
    "\n",
    "# Split the data into training and Validation set\n",
    "X_train, X_val, y_train, y_val = train_test_split(X_train_o, y_train_o, test_size=0.15, random_state=24)\n",
    "\n",
    "print(len(X_train))\n",
    "print(len(X_test))"
   ]
  },
  {
   "cell_type": "markdown",
   "metadata": {},
   "source": [
    "```\n",
    "id\n",
    "name\n",
    "host_id\n",
    "host_name\n",
    "host_is_superhost\n",
    "host_identity_verified\n",
    "neighbourhood_cleansed\n",
    "latitude\n",
    "longitude\n",
    "city_name\n",
    "room_type\n",
    "accommodates\n",
    "bathrooms_text\n",
    "bedrooms\n",
    "beds\n",
    "number_of_reviews\n",
    "review_scores_rating\n",
    "review_scores_accuracy\n",
    "review_scores_cleanliness\n",
    "review_scores_checkin\n",
    "review_scores_communication\n",
    "review_scores_location\n",
    "review_scores_value\n",
    "license\n",
    "instant_bookable\n",
    "nearest_stop_m\n",
    "n_pois_3klm_radius\n",
    "```"
   ]
  },
  {
   "cell_type": "markdown",
   "metadata": {},
   "source": [
    "Scaler\n",
    "\n",
    "- MinMax\n",
    "- Robust"
   ]
  },
  {
   "cell_type": "code",
   "execution_count": null,
   "metadata": {},
   "outputs": [],
   "source": [
    "# Initialise the Scaler\n",
    "min_max_scaler = MinMaxScaler()\n",
    "\n",
    "# Fit and transform train data and then transform the test data based on the transformed train.\n",
    "X_train = min_max_scaler.fit_transform(X_train)\n",
    "X_test = min_max_scaler.transform(X_test)"
   ]
  },
  {
   "cell_type": "code",
   "execution_count": null,
   "metadata": {},
   "outputs": [],
   "source": [
    "data.info()"
   ]
  },
  {
   "cell_type": "code",
   "execution_count": null,
   "metadata": {},
   "outputs": [],
   "source": [
    "from keras.model import Model, Sequential"
   ]
  },
  {
   "cell_type": "code",
   "execution_count": null,
   "metadata": {},
   "outputs": [],
   "source": [
    "# Determine the input size of the algorithm\n",
    "input_shape = len(X_train.columns)\n",
    "\n",
    "model = Sequential()\n",
    "\n",
    "model.add(Dense(128, activation='relu', input_shape=input_shape))\n",
    "model.add(Dropout(0.2))\n",
    "model.add(Dense(64, activation='relu'))\n",
    "model.add(Dropout(0.2))\n",
    "\n",
    "# softmax classification\n",
    "model.add(Dense(num_classes, activation='softmax'))\n",
    "\n",
    "model.summary()\n",
    "\n",
    "# Compile the model\n",
    "model.compile(loss='sparse_categorical_crossentropy', optimizer='Adam', metrics=['accuracy'])"
   ]
  },
  {
   "cell_type": "code",
   "execution_count": null,
   "metadata": {},
   "outputs": [],
   "source": [
    "# Callbacks\n",
    "es = EarlyStopping(monitor='val_accuracy', patience=8, min_delta=1)\n",
    "filepath=\"Skin_lesion_characterization/weights.best.hdf5\"\n",
    "checkpoint = ModelCheckpoint(filepath, monitor='val_accuracy', verbose=1, save_best_only=True, mode='max')\n",
    "callbacks_list = [checkpoint] #PlotLossesKeras()"
   ]
  },
  {
   "cell_type": "code",
   "execution_count": null,
   "metadata": {},
   "outputs": [],
   "source": [
    "batch_size = BATCH_SIZE\n",
    "epochs = 15\n",
    "\n",
    "history_custom = model.fit(\n",
    "    X_train, y_train,\n",
    "    epochs=epochs,\n",
    "    batch_size = batch_size,\n",
    "    validation_data=(X_val, y_val),\n",
    "    verbose=1,\n",
    "    callbacks=[PlotLossesKeras()])\n",
    "\n",
    "# save model\n",
    "\n",
    "score = model.evaluate(X_test, y_test)\n",
    "print('Test accuracy:', score[1])"
   ]
  },
  {
   "cell_type": "markdown",
   "metadata": {},
   "source": [
    "Evalution"
   ]
  },
  {
   "cell_type": "markdown",
   "metadata": {},
   "source": [
    "model.evaluate\n",
    "\n"
   ]
  },
  {
   "cell_type": "markdown",
   "metadata": {},
   "source": [
    "Adjust Model"
   ]
  },
  {
   "cell_type": "code",
   "execution_count": null,
   "metadata": {},
   "outputs": [],
   "source": [
    "plt.subplot(1,2,1)\n",
    "plt.plot(image_mobilenet.history['accuracy'], marker='o')\n",
    "plt.plot(image_mobilenet.history['val_accuracy'], marker='o')\n",
    "plt.title('model accuracy')\n",
    "plt.ylabel('accuracy')\n",
    "plt.xlabel('epoch')\n",
    "plt.legend(['train', 'val'], loc='lower right')\n",
    "\n",
    "plt.subplot(1,2,2)\n",
    "plt.plot(image_mobilenet.history['loss'], marker='o')\n",
    "plt.plot(image_mobilenet.history['val_loss'], marker='o')\n",
    "plt.title('model loss')\n",
    "plt.ylabel('loss')\n",
    "plt.xlabel('epoch')\n",
    "plt.legend(['train', 'val'], loc='lower right')\n",
    "plt.show()"
   ]
  }
 ],
 "metadata": {
  "kernelspec": {
   "display_name": "Python 3.7.4 ('base')",
   "language": "python",
   "name": "python3"
  },
  "language_info": {
   "codemirror_mode": {
    "name": "ipython",
    "version": 3
   },
   "file_extension": ".py",
   "mimetype": "text/x-python",
   "name": "python",
   "nbconvert_exporter": "python",
   "pygments_lexer": "ipython3",
   "version": "3.7.4"
  },
  "orig_nbformat": 4,
  "vscode": {
   "interpreter": {
    "hash": "710abce320567d9e67a3dbd85ba2e264aece54d20105dd98eaa2fba926e830c0"
   }
  }
 },
 "nbformat": 4,
 "nbformat_minor": 2
}
